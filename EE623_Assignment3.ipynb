{
  "cells": [
    {
      "cell_type": "markdown",
      "metadata": {
        "id": "Cg39ln3EsZ13"
      },
      "source": [
        "# Q1"
      ]
    },
    {
      "cell_type": "markdown",
      "metadata": {
        "id": "z0siA8Kf4yBi"
      },
      "source": [
        "## 1. Load a small open‐source object detection dataset"
      ]
    },
    {
      "cell_type": "code",
      "execution_count": null,
      "metadata": {
        "id": "iZfVENabCUOW"
      },
      "outputs": [],
      "source": [
        "# Setup\n",
        "import matplotlib.pyplot as plt\n",
        "import numpy as np\n",
        "from PIL import Image\n",
        "import random\n",
        "import cv2\n",
        "import os\n",
        "import pickle\n",
        "from tqdm import tqdm\n",
        "import torch\n",
        "import torchvision\n",
        "from torchvision.models.detection import FasterRCNN\n",
        "from torchvision.models.detection.faster_rcnn import FastRCNNPredictor\n",
        "from torchvision.models.detection import fasterrcnn_resnet50_fpn\n",
        "import torchvision.transforms as T\n",
        "from torch.utils.data import DataLoader\n",
        "from collections import OrderedDict\n",
        "import glob\n",
        "import shutil\n",
        "from matplotlib import patches"
      ]
    },
    {
      "cell_type": "markdown",
      "metadata": {
        "id": "YTiP7cOO8pqD"
      },
      "source": [
        "### Load COCO Minitrain Dataset 10k using Hugging Face (*Failed*)"
      ]
    },
    {
      "cell_type": "code",
      "execution_count": null,
      "metadata": {
        "collapsed": true,
        "id": "G0Tep_v-on-Y"
      },
      "outputs": [],
      "source": [
        "!pip install datasets # Install Hugging Face datasets library if not already installed"
      ]
    },
    {
      "cell_type": "code",
      "execution_count": null,
      "metadata": {
        "id": "pEXz086_xo3Z"
      },
      "outputs": [],
      "source": [
        "from datasets import load_dataset\n",
        "\n",
        "# Load the 10k images dataset \"coco_minitrain_10k.zip\" from the hugging face dataset \"bryanbocao/coco_minitrain\"\n",
        "# https://huggingface.co/datasets/bryanbocao/coco_minitrain\n",
        "# load_dataset automatically extracts zip folders\n",
        "dataset = load_dataset(\"bryanbocao/coco_minitrain\", data_files=\"coco_minitrain_10k.zip\")"
      ]
    },
    {
      "cell_type": "code",
      "execution_count": null,
      "metadata": {
        "id": "ieqGq4Uu68Bz"
      },
      "outputs": [],
      "source": [
        "# Get the training split\n",
        "train_data = dataset['train']"
      ]
    },
    {
      "cell_type": "code",
      "execution_count": null,
      "metadata": {
        "id": "HUCOfzKO_X4i"
      },
      "outputs": [],
      "source": [
        "# View the first few image labels\n",
        "display(train_data[0:4])"
      ]
    },
    {
      "cell_type": "markdown",
      "metadata": {
        "id": "7e79r6P1kxFG"
      },
      "source": [
        "*Notice that all of the labels are for some reason 0, I think there is something with the way I am trying to extract this hugging face dataset or something wrong with how the dataset is stored on hugging face.*"
      ]
    },
    {
      "cell_type": "markdown",
      "metadata": {
        "id": "4uRHxT-IlJtO"
      },
      "source": [
        "### Load COCO Minitrain 10k Dataset by mounting Google Drive (*Failed*)"
      ]
    },
    {
      "cell_type": "markdown",
      "metadata": {
        "id": "4q1GJ6q3lXfE"
      },
      "source": [
        "*When I downloaded the dataset from hugging face to my local machine I noticed that the labels were indeed there and not 0 like before. So, I decided to instead upload the zipped folder of the dataset to Google Drive, mount the drive, then unzip it in this notebook environment.*"
      ]
    },
    {
      "cell_type": "code",
      "execution_count": null,
      "metadata": {
        "id": "lWxywE3ElIWB"
      },
      "outputs": [],
      "source": [
        "# Mount Google Drive to Colab Notebook\n",
        "from google.colab import drive\n",
        "drive.mount('/content/drive')"
      ]
    },
    {
      "cell_type": "markdown",
      "metadata": {
        "id": "M6uNVXAgm1g5"
      },
      "source": [
        "*At this point I had to stop, because when trying to upload the zipped file to Google Drive, it said the estimated amount of time would be 3 hours, and it would probably take another hour just to unzip it all in this notebook. So, I decided to instead cut the dataset down from 10k images to instead just 1k images, as the point of this notebook is not for accuracy and instead just for learning.*"
      ]
    },
    {
      "cell_type": "markdown",
      "metadata": {
        "id": "Gwvxoal4nioI"
      },
      "source": [
        "### Load COCO Minitrain 1k Dataset instead of 10k Dataset (*Failed*)"
      ]
    },
    {
      "cell_type": "code",
      "execution_count": null,
      "metadata": {
        "collapsed": true,
        "id": "t5UheYobn92n"
      },
      "outputs": [],
      "source": [
        "!unzip /content/drive/MyDrive/coco_minitrain_1k.zip"
      ]
    },
    {
      "cell_type": "code",
      "execution_count": null,
      "metadata": {
        "collapsed": true,
        "id": "Gb3JbGpLqDWW"
      },
      "outputs": [],
      "source": [
        "# Install custom coco dataset tools library to make getting the annotations and images easier\n",
        "!pip install pycocotools\n",
        "\n",
        "# Install headless version of opencv as colab has no GUI functionality that would be present in the normal version of opencv\n",
        "!pip install opencv-python-headless"
      ]
    },
    {
      "cell_type": "code",
      "execution_count": null,
      "metadata": {
        "id": "sUSK3rVlJ99_"
      },
      "outputs": [],
      "source": [
        "# Paths\n",
        "IMG_DIR = \"/content/coco_minitrain_1k/coco_minitrain_1k/images/train2017\"\n",
        "LABEL_DIR = \"/content/coco_minitrain_1k/coco_minitrain_1k/labels/train2017\"\n",
        "\n",
        "# Load a few image filenames\n",
        "image_files = sorted(os.listdir(IMG_DIR))[900:905]  # Display first images 900 to 905\n",
        "\n",
        "def draw_yolo_boxes(image_path, label_path):\n",
        "    image = cv2.imread(image_path)\n",
        "    image = cv2.cvtColor(image, cv2.COLOR_BGR2RGB)\n",
        "    h, w, _ = image.shape\n",
        "\n",
        "    if not os.path.exists(label_path):\n",
        "        print(f\"Label not found for {image_path}\")\n",
        "        return image\n",
        "\n",
        "    with open(label_path, 'r') as f:\n",
        "        for line in f.readlines():\n",
        "            parts = line.strip().split()\n",
        "            if len(parts) != 5:\n",
        "                continue  # skip malformed lines\n",
        "            cls_id, x_center, y_center, bbox_width, bbox_height = map(float, parts)\n",
        "\n",
        "            # Convert YOLO (normalized) to pixel coordinates\n",
        "            x1 = int((x_center - bbox_width / 2) * w)\n",
        "            y1 = int((y_center - bbox_height / 2) * h)\n",
        "            x2 = int((x_center + bbox_width / 2) * w)\n",
        "            y2 = int((y_center + bbox_height / 2) * h)\n",
        "\n",
        "            # Draw rectangle\n",
        "            cv2.rectangle(image, (x1, y1), (x2, y2), color=(0, 255, 0), thickness=2)\n",
        "            # Draw class label\n",
        "            cv2.putText(image, str(int(cls_id)), (x1, y1 - 5), cv2.FONT_HERSHEY_SIMPLEX,\n",
        "                        0.5, (255, 0, 0), 1, cv2.LINE_AA)\n",
        "\n",
        "    return image"
      ]
    },
    {
      "cell_type": "code",
      "execution_count": null,
      "metadata": {
        "id": "LkAFy8vmqUUi"
      },
      "outputs": [],
      "source": [
        "# Display a few samples\n",
        "plt.figure(figsize=(15, 10))\n",
        "for idx, img_name in enumerate(image_files):\n",
        "    img_path = os.path.join(IMG_DIR, img_name)\n",
        "    label_name = img_name.replace(\".jpg\", \".txt\")\n",
        "    label_path = os.path.join(LABEL_DIR, label_name)\n",
        "\n",
        "    print(img_path)\n",
        "    print(label_path)\n",
        "\n",
        "    image_with_boxes = draw_yolo_boxes(img_path, label_path)\n",
        "\n",
        "    plt.subplot(2, 3, idx+1)\n",
        "    plt.imshow(image_with_boxes)\n",
        "    plt.title(img_name)\n",
        "    plt.axis('off')\n",
        "\n",
        "plt.tight_layout()\n",
        "plt.show()"
      ]
    },
    {
      "cell_type": "markdown",
      "metadata": {
        "id": "c9RlhQHn002H"
      },
      "source": [
        "### Load COCO Minitrain 0.79K Dataset instead of 1k Dataset (*Success*)"
      ]
    },
    {
      "cell_type": "markdown",
      "metadata": {
        "id": "6dMtzRts3kdq"
      },
      "source": [
        "![Screenshot 2025-04-08 000723.png](data:image/png;base64,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)\n",
        "\n",
        "I realized that somewhere in the process of downsizing the 10k dataset to 1k images and labels, I must have messed up somewhere as I noticed at the 790th index, all of a sudden, the images do not match the labels as seen in these file names in the file explorer above. This is probably the most lazy way to go about it but I am going to simply delete all of the images and labels after index 790 and reupload the zip folder to drive."
      ]
    },
    {
      "cell_type": "code",
      "execution_count": null,
      "metadata": {
        "collapsed": true,
        "id": "gpq5Eh3s1OWN"
      },
      "outputs": [],
      "source": [
        "!unzip /content/drive/MyDrive/coco_minitrain_790.zip"
      ]
    },
    {
      "cell_type": "markdown",
      "metadata": {
        "id": "yAMkxDH5Caw_"
      },
      "source": [
        "## 2. Create a Data Pipeline"
      ]
    },
    {
      "cell_type": "markdown",
      "metadata": {
        "id": "EiDAGnPMCfuC"
      },
      "source": [
        "My train validation split is already near 80/20 (it is 90/10)."
      ]
    },
    {
      "cell_type": "markdown",
      "metadata": {
        "id": "2EBUurZvsoQh"
      },
      "source": [
        "## 3. Visualize bounding boxes"
      ]
    },
    {
      "cell_type": "markdown",
      "source": [
        "### Convert YOLO annotations to x1, y1, x2, y2 style"
      ],
      "metadata": {
        "id": "MBnde0_QaCA2"
      }
    },
    {
      "cell_type": "code",
      "execution_count": null,
      "metadata": {
        "id": "JD0d3GgDqvLr"
      },
      "outputs": [],
      "source": [
        "# Paths\n",
        "IMG_DIR = \"/content/coco_minitrain_790/images/train2017\"\n",
        "LABEL_DIR = \"/content/coco_minitrain_790/labels/train2017\"\n",
        "\n",
        "# Load a few image filenames\n",
        "image_files = sorted(os.listdir(IMG_DIR))[:5]  # Display the first 5 images\n",
        "\n",
        "def draw_yolo_boxes(image_path, label_path):\n",
        "    image = cv2.imread(image_path)\n",
        "    image = cv2.cvtColor(image, cv2.COLOR_BGR2RGB)\n",
        "    h, w, _ = image.shape\n",
        "\n",
        "    if not os.path.exists(label_path):\n",
        "        print(f\"Label not found for {image_path}\")\n",
        "        return image\n",
        "\n",
        "    with open(label_path, 'r') as f:\n",
        "        for line in f.readlines():\n",
        "            parts = line.strip().split()\n",
        "            if len(parts) != 5:\n",
        "                continue  # skip malformed lines\n",
        "            cls_id, x_center, y_center, bbox_width, bbox_height = map(float, parts)\n",
        "\n",
        "            # Convert YOLO (normalized) to pixel coordinates\n",
        "            x1 = int((x_center - bbox_width / 2) * w)\n",
        "            y1 = int((y_center - bbox_height / 2) * h)\n",
        "            x2 = int((x_center + bbox_width / 2) * w)\n",
        "            y2 = int((y_center + bbox_height / 2) * h)\n",
        "\n",
        "            # Draw rectangle\n",
        "            cv2.rectangle(image, (x1, y1), (x2, y2), color=(0, 255, 0), thickness=2)\n",
        "            # Draw class label\n",
        "            cv2.putText(image, str(int(cls_id)), (x1, y1 - 5), cv2.FONT_HERSHEY_SIMPLEX,\n",
        "                        0.5, (255, 0, 0), 1, cv2.LINE_AA)\n",
        "\n",
        "    return image"
      ]
    },
    {
      "cell_type": "markdown",
      "source": [
        "### Display Bounding Boxes for 5 images"
      ],
      "metadata": {
        "id": "z5399SLyZ35L"
      }
    },
    {
      "cell_type": "code",
      "execution_count": null,
      "metadata": {
        "id": "0zIlHo3L_6tG"
      },
      "outputs": [],
      "source": [
        "# Display a the first 5 images with their bounding boxes\n",
        "plt.figure(figsize=(15, 10))\n",
        "for idx, img_name in enumerate(image_files):\n",
        "    img_path = os.path.join(IMG_DIR, img_name)\n",
        "    label_name = img_name.replace(\".jpg\", \".txt\")\n",
        "    label_path = os.path.join(LABEL_DIR, label_name)\n",
        "\n",
        "    image_with_boxes = draw_yolo_boxes(img_path, label_path)\n",
        "\n",
        "    plt.subplot(2, 3, idx+1)\n",
        "    plt.imshow(image_with_boxes)\n",
        "    plt.title(img_name)\n",
        "    plt.axis('off')\n",
        "\n",
        "plt.tight_layout()\n",
        "plt.show()"
      ]
    },
    {
      "cell_type": "markdown",
      "metadata": {
        "id": "wJJAkdwCaK9D"
      },
      "source": [
        "## 4. Implement simple Data Augmentation"
      ]
    },
    {
      "cell_type": "code",
      "execution_count": null,
      "metadata": {
        "id": "61ViPgu1DVY8"
      },
      "outputs": [],
      "source": [
        "# Color Jitter\n",
        "from torchvision import transforms\n",
        "\n",
        "# Load a sample image\n",
        "img_path = '/content/coco_minitrain_790/images/train2017/000000001089.jpg'\n",
        "image = Image.open(img_path).convert(\"RGB\")\n",
        "\n",
        "# Define transformation\n",
        "transform = transforms.Compose([\n",
        "    transforms.ColorJitter(brightness=0.8, contrast=0.7, saturation=1)\n",
        "])\n",
        "\n",
        "# Apply transform\n",
        "augmented = transform(image)\n",
        "\n",
        "# Plot original and augmented images\n",
        "fig, ax = plt.subplots(1, 2, figsize=(10, 5))\n",
        "ax[0].imshow(image)\n",
        "ax[0].set_title(\"Original\")\n",
        "ax[0].axis('off')\n",
        "\n",
        "ax[1].imshow(augmented)\n",
        "ax[1].set_title(\"Color Jitter\")\n",
        "ax[1].axis('off')\n",
        "\n",
        "plt.show()"
      ]
    },
    {
      "cell_type": "code",
      "execution_count": null,
      "metadata": {
        "id": "VyxmmbWeaXGx"
      },
      "outputs": [],
      "source": [
        "# Random Flip\n",
        "\n",
        "# Load a sample image\n",
        "img_path = '/content/coco_minitrain_790/images/train2017/000000001089.jpg'\n",
        "image = Image.open(img_path).convert(\"RGB\")\n",
        "\n",
        "# Define transformation\n",
        "transform = transforms.Compose([\n",
        "    transforms.RandomHorizontalFlip(p=1.0)\n",
        "])\n",
        "\n",
        "# Apply transform\n",
        "augmented = transform(image)\n",
        "\n",
        "# Plot original and augmented images\n",
        "fig, ax = plt.subplots(1, 2, figsize=(10, 5))\n",
        "ax[0].imshow(image)\n",
        "ax[0].set_title(\"Original\")\n",
        "ax[0].axis('off')\n",
        "\n",
        "ax[1].imshow(augmented)\n",
        "ax[1].set_title(\"Horizontal Flip\")\n",
        "ax[1].axis('off')\n",
        "\n",
        "plt.show()"
      ]
    },
    {
      "cell_type": "markdown",
      "metadata": {
        "id": "jukbEG8Jr_Kd"
      },
      "source": [
        "## 5. Summarize challenges and observations"
      ]
    },
    {
      "cell_type": "markdown",
      "metadata": {
        "id": "nLyQglUdtFiL"
      },
      "source": [
        "So the first obvious dataset limitation is that the dataset has only 790 images for training. This is very low compared to the full size of the COCO dataset (330,000 images). Also, because of the way I extraced the 790 images (simply took the first 790 images from a mini dataset of 10k images from hugging face) there is most likely a class imbalance as well. These two factors will have great effects on the overall accuracy of each of the four models but I am curious to see how they fare with so little data to train on."
      ]
    },
    {
      "cell_type": "markdown",
      "metadata": {
        "id": "vBcwENlft3LO"
      },
      "source": [
        "# Q2"
      ]
    },
    {
      "cell_type": "markdown",
      "metadata": {
        "id": "28EYBTHDt6yl"
      },
      "source": [
        "## 1. Load a Fast RCNN model"
      ]
    },
    {
      "cell_type": "markdown",
      "metadata": {
        "id": "eS15KGuL6yIA"
      },
      "source": [
        "Fast R-CNN relies on an input image **and** pre-generated region proposal boxes to classify objects. The algorithm I used to get these region proposal boxes is the classical Selective Search algorithm, originally used in the paper for Fast R-CNN."
      ]
    },
    {
      "cell_type": "code",
      "execution_count": null,
      "metadata": {
        "collapsed": true,
        "id": "0t1GU9yAuK_G"
      },
      "outputs": [],
      "source": [
        "!pip uninstall -y opencv-python opencv-python-headless opencv-contrib-python\n",
        "!pip install opencv-contrib-python"
      ]
    },
    {
      "cell_type": "code",
      "execution_count": null,
      "metadata": {
        "id": "OEQmNoNwBHTq"
      },
      "outputs": [],
      "source": [
        "# Load sample image to observe selective search\n",
        "img_path = \"/content/coco_minitrain_790/images/train2017/000000000154.jpg\"\n",
        "img = cv2.imread(img_path)\n",
        "img_rgb = cv2.cvtColor(img, cv2.COLOR_BGR2RGB)\n",
        "\n",
        "# Create selective search segmentation object\n",
        "ss = cv2.ximgproc.segmentation.createSelectiveSearchSegmentation()\n",
        "ss.setBaseImage(img)\n",
        "ss.switchToSelectiveSearchFast()\n",
        "\n",
        "# Run selective search\n",
        "rects = ss.process()\n",
        "print(f\"Total region proposals: {len(rects)}\")\n",
        "\n",
        "# Convert first N to proposal boxes [x1, y1, x2, y2]\n",
        "N = 100\n",
        "proposals = []\n",
        "for (x, y, w, h) in rects[:N]:\n",
        "    proposals.append([x, y, x + w, y + h])\n",
        "proposals = torch.tensor(proposals, dtype=torch.float32)\n",
        "\n",
        "# Visualize a few proposal boxes\n",
        "img_copy = img_rgb.copy()\n",
        "for (x1, y1, x2, y2) in proposals[:25].int().tolist():\n",
        "    cv2.rectangle(img_copy, (x1, y1), (x2, y2), color=(0, 255, 0), thickness=2)\n",
        "\n",
        "plt.figure(figsize=(10, 10))\n",
        "plt.imshow(img_copy)\n",
        "plt.title(\"Top 25 Selective Search Region Proposal Boxes\")\n",
        "plt.axis('off')\n",
        "plt.show()\n"
      ]
    },
    {
      "cell_type": "markdown",
      "metadata": {
        "id": "kJDqVDwNQEjN"
      },
      "source": [
        "Here I am looping through all 790 of my images and using `pickle` to save all the region proposal boxes from selective search to feed into Fast R-CNN. However, it said it would take an hour for my images which make sense since the selective search algorithm is quite bare bones and is computationally intensive."
      ]
    },
    {
      "cell_type": "code",
      "execution_count": null,
      "metadata": {
        "id": "QVFye719NTgM"
      },
      "outputs": [],
      "source": [
        "def generate_proposals_for_dataset(image_dir, save_path, max_proposals=2000):\n",
        "    all_proposals = {}  # image_name (no ext) -> list of [x1, y1, x2, y2]\n",
        "\n",
        "    ss = cv2.ximgproc.segmentation.createSelectiveSearchSegmentation()\n",
        "\n",
        "    image_filenames = sorted(os.listdir(image_dir))\n",
        "    for filename in tqdm(image_filenames):\n",
        "        if not filename.endswith(\".jpg\"):\n",
        "            continue\n",
        "\n",
        "        image_path = os.path.join(image_dir, filename)\n",
        "        img = cv2.imread(image_path)\n",
        "        if img is None:\n",
        "            continue\n",
        "\n",
        "        ss.setBaseImage(img)\n",
        "        ss.switchToSelectiveSearchFast()\n",
        "        rects = ss.process()\n",
        "        rects = rects[:max_proposals]\n",
        "\n",
        "        # Convert from [x, y, w, h] to [x1, y1, x2, y2]\n",
        "        boxes = np.array([[x, y, x + w, y + h] for (x, y, w, h) in rects])\n",
        "\n",
        "        all_proposals[filename] = boxes\n",
        "\n",
        "    # Save proposals\n",
        "    with open(save_path, \"wb\") as f:\n",
        "        pickle.dump(all_proposals, f)\n",
        "\n",
        "    print(f\"Saved proposals to {save_path}\")\n",
        "\n",
        "# Example usage:\n",
        "generate_proposals_for_dataset(\n",
        "    image_dir=\"/content/coco_minitrain_790/images/train2017\",\n",
        "    save_path=\"/content/train_region_proposals.pkl\"\n",
        ")\n"
      ]
    },
    {
      "cell_type": "markdown",
      "metadata": {
        "id": "Re_C-G40Qx8p"
      },
      "source": [
        "To try and shorten the amount of time it takes to generate all of the regions proposals, I am going to cap the number of proposals to 100 for each image."
      ]
    },
    {
      "cell_type": "code",
      "execution_count": null,
      "metadata": {
        "id": "pt3H8rdgQeX-"
      },
      "outputs": [],
      "source": [
        "def generate_selective_search_proposals(image_dir, save_path=None, max_proposals=100):\n",
        "    ss = cv2.ximgproc.segmentation.createSelectiveSearchSegmentation()\n",
        "    all_proposals = {}\n",
        "\n",
        "    image_files = sorted([\n",
        "        f for f in os.listdir(image_dir)\n",
        "        if f.lower().endswith((\".jpg\"))\n",
        "    ])\n",
        "\n",
        "    for img_file in tqdm(image_files, desc=\"Generating Selective Search Proposals\"):\n",
        "        img_path = os.path.join(image_dir, img_file)\n",
        "        img = cv2.imread(img_path)\n",
        "\n",
        "        if img is None:\n",
        "            print(f\"Warning: Failed to read {img_path}\")\n",
        "            continue\n",
        "\n",
        "        ss.setBaseImage(img)\n",
        "        ss.switchToSelectiveSearchFast()\n",
        "        rects = ss.process()\n",
        "\n",
        "        # Limit to max_proposals\n",
        "        proposals = rects[:max_proposals]\n",
        "\n",
        "        # Save proposals in dictionary\n",
        "        print(img_file)\n",
        "        all_proposals[img_file] = proposals\n",
        "\n",
        "    # Save all proposals only once after loop\n",
        "    if save_path:\n",
        "        with open(save_path, \"wb\") as f:\n",
        "            pickle.dump(all_proposals, f)\n",
        "\n",
        "    return all_proposals"
      ]
    },
    {
      "cell_type": "markdown",
      "metadata": {
        "id": "GW1qEwCRXm0J"
      },
      "source": [
        "Even with limiting the function to only save the top 100 proposals, the estimated runtime was 45 minutes. So, just for Fast R-CNN I am going to\n",
        "only generate regions proposals for the first 100 images and just train on those first 100 images as the point of this assignment is not accuracy but to compare different architerctures for object detection and classification. I guess this was the entire purpose of faster r-cnn; to dynamically handle region proposals on its own without the help of the computationally intensive selective search algorithm."
      ]
    },
    {
      "cell_type": "code",
      "execution_count": null,
      "metadata": {
        "collapsed": true,
        "id": "0pLcIlzdQ-gH"
      },
      "outputs": [],
      "source": [
        "image_dir = \"/content/coco_minitrain_790/images/train2017/\"\n",
        "save_path = \"/content/region_proposals_train.pkl\"\n",
        "\n",
        "proposals = generate_selective_search_proposals(image_dir, save_path, max_proposals=100)"
      ]
    },
    {
      "cell_type": "code",
      "execution_count": null,
      "metadata": {
        "id": "vOW_6WrQYv-V"
      },
      "outputs": [],
      "source": [
        "def generate_selective_search_proposals_100(image_dir, save_path=None, max_proposals=100, max_images=100):\n",
        "    ss = cv2.ximgproc.segmentation.createSelectiveSearchSegmentation()\n",
        "    all_proposals = {}\n",
        "\n",
        "    image_files = sorted([\n",
        "        f for f in os.listdir(image_dir)\n",
        "        if f.lower().endswith(\".jpg\")\n",
        "    ])[:max_images]  # <-- Limit to first N images\n",
        "\n",
        "    for img_file in tqdm(image_files, desc=\"Generating Selective Search Proposals\"):\n",
        "        img_path = os.path.join(image_dir, img_file)\n",
        "        img = cv2.imread(img_path)\n",
        "\n",
        "        if img is None:\n",
        "            print(f\"Warning: Failed to read {img_path}\")\n",
        "            continue\n",
        "\n",
        "        ss.setBaseImage(img)\n",
        "        ss.switchToSelectiveSearchFast()\n",
        "        rects = ss.process()\n",
        "\n",
        "        proposals = rects[:max_proposals]\n",
        "        all_proposals[img_file] = proposals\n",
        "\n",
        "    if save_path:\n",
        "        with open(save_path, \"wb\") as f:\n",
        "            pickle.dump(all_proposals, f)\n",
        "\n",
        "    return all_proposals\n"
      ]
    },
    {
      "cell_type": "code",
      "execution_count": null,
      "metadata": {
        "id": "zJguGUPPbiYq"
      },
      "outputs": [],
      "source": [
        "image_dir = \"/content/coco_minitrain_790/images/train2017/\"\n",
        "save_path = \"/content/region_proposals_100_images.pkl\"\n",
        "\n",
        "proposals = generate_selective_search_proposals_100(\n",
        "    image_dir=image_dir,\n",
        "    save_path=save_path,\n",
        "    max_proposals=100,\n",
        "    max_images=100\n",
        ")"
      ]
    },
    {
      "cell_type": "code",
      "execution_count": null,
      "metadata": {
        "collapsed": true,
        "id": "we9QJ2hFmpxc"
      },
      "outputs": [],
      "source": [
        "# Verify region proposals are as they should be\n",
        "proposals_pickle = open(\"/content/region_proposals_100_images.pkl\", \"rb\")\n",
        "proposal_contents = pickle.load(proposals_pickle)\n",
        "display(proposal_contents)"
      ]
    },
    {
      "cell_type": "markdown",
      "metadata": {
        "id": "_5T-YDv2hfSm"
      },
      "source": [
        "This function helps us bypass the default RPN (Region Proposal Network) used by the faster r-cnn architecture and instead use our own pre-generated region proposals as done in Fast R-CNN. It takes in the image, label, **and** the region proposal for that image."
      ]
    },
    {
      "cell_type": "code",
      "execution_count": null,
      "metadata": {
        "id": "zZouFansgXaQ"
      },
      "outputs": [],
      "source": [
        "class FastRCNNDataset(torch.utils.data.Dataset):\n",
        "    def __init__(self, img_dir, label_dir, proposals_dict, transforms=None):\n",
        "        self.img_paths = sorted(glob.glob(os.path.join(img_dir, \"*.jpg\")))\n",
        "        self.label_paths = sorted(glob.glob(os.path.join(label_dir, \"*.txt\")))\n",
        "        self.proposals_dict = proposals_dict\n",
        "        self.transforms = transforms\n",
        "\n",
        "    def __getitem__(self, idx):\n",
        "        img_path = self.img_paths[idx]\n",
        "        label_path = self.label_paths[idx]\n",
        "        image_id = os.path.basename(img_path)\n",
        "\n",
        "        img = cv2.imread(img_path)\n",
        "        img = cv2.cvtColor(img, cv2.COLOR_BGR2RGB)\n",
        "        img_tensor = torchvision.transforms.ToTensor()(img)\n",
        "\n",
        "        # Load YOLO annotations\n",
        "        h, w = img.shape[:2]\n",
        "        boxes = []\n",
        "        labels = []\n",
        "        with open(label_path, 'r') as f:\n",
        "            for line in f.readlines():\n",
        "                cls, cx, cy, bw, bh = map(float, line.strip().split())\n",
        "                x1 = (cx - bw / 2) * w\n",
        "                y1 = (cy - bh / 2) * h\n",
        "                x2 = (cx + bw / 2) * w\n",
        "                y2 = (cy + bh / 2) * h\n",
        "                boxes.append([x1, y1, x2, y2])\n",
        "                labels.append(int(cls))\n",
        "\n",
        "        target = {\n",
        "            \"boxes\": torch.tensor(boxes, dtype=torch.float32),\n",
        "            \"labels\": torch.tensor(labels, dtype=torch.int64),\n",
        "            \"image_id\": torch.tensor([idx]),\n",
        "        }\n",
        "\n",
        "        # Get proposals for this image\n",
        "        proposals = self.proposals_dict[image_id]\n",
        "        proposals = torch.tensor(proposals, dtype=torch.float32)\n",
        "\n",
        "        return img_tensor, target, proposals\n",
        "\n",
        "    def __len__(self):\n",
        "        return len(self.img_paths)\n"
      ]
    },
    {
      "cell_type": "markdown",
      "metadata": {
        "id": "BnwKmdV6uEYE"
      },
      "source": [
        "## 2. Configure the model for training"
      ]
    },
    {
      "cell_type": "markdown",
      "metadata": {
        "id": "PqFp-xHoh7I4"
      },
      "source": [
        "Since Fast R-CNN is simply the predecessor of Faster R-CNN, we can use torchvision's architecture for Faster R-CNN for Fast R-CNN but making sure to specifically use our pregenerated region proposals."
      ]
    },
    {
      "cell_type": "code",
      "execution_count": null,
      "metadata": {
        "id": "X4M6arTrt59V"
      },
      "outputs": [],
      "source": [
        "class FastRCNNWrapper(torch.nn.Module):\n",
        "    def __init__(self, base_model):\n",
        "        super().__init__()\n",
        "        self.model = base_model\n",
        "\n",
        "    def forward(self, images, targets=None, proposals=None):\n",
        "        original_image_sizes = [img.shape[-2:] for img in images]\n",
        "        images, targets = self.model.transform(images, targets)\n",
        "\n",
        "        features = self.model.backbone(images.tensors)\n",
        "        if isinstance(features, torch.Tensor):\n",
        "            features = OrderedDict([(\"0\", features)])\n",
        "\n",
        "        if proposals is None:\n",
        "            raise ValueError(\"Proposals must be provided for Fast R-CNN\")\n",
        "\n",
        "        proposals = [p.to(images.tensors.device) for p in proposals]\n",
        "\n",
        "        detections, detector_losses = self.model.roi_heads(features, proposals, images.image_sizes, targets)\n",
        "        detections = self.model.transform.postprocess(detections, images.image_sizes, original_image_sizes)\n",
        "\n",
        "        if self.training:\n",
        "            return detector_losses\n",
        "        return detections\n"
      ]
    },
    {
      "cell_type": "markdown",
      "metadata": {
        "id": "6oi_NgAeuMBu"
      },
      "source": [
        "## 3. Train the model on the prepared dataset"
      ]
    },
    {
      "cell_type": "markdown",
      "metadata": {
        "id": "W_qYDzrtGVAm"
      },
      "source": [
        "Create new folders for the 100 size image and labels folders since regions proposals was only done for the first 100 images due to high computing time for selective search algorithm"
      ]
    },
    {
      "cell_type": "code",
      "execution_count": null,
      "metadata": {
        "id": "9EdZYoWFGX3r"
      },
      "outputs": [],
      "source": [
        "# New directories\n",
        "new_img_dir = '/content/coco_minitrain_790/images/train100/'\n",
        "new_label_dir = '/content/coco_minitrain_790/labels/train100/'\n",
        "\n",
        "# Create the new directories if they don't exist\n",
        "os.makedirs(new_img_dir, exist_ok=True)\n",
        "os.makedirs(new_label_dir, exist_ok=True)"
      ]
    },
    {
      "cell_type": "code",
      "execution_count": null,
      "metadata": {
        "id": "MnxZBgWxGm2N"
      },
      "outputs": [],
      "source": [
        "img_dir = \"/content/coco_minitrain_790/images/train2017/\"\n",
        "label_dir = \"/content/coco_minitrain_790/labels/train2017/\"\n",
        "\n",
        "# Get the first 100 image paths\n",
        "image_paths = sorted([f for f in os.listdir(img_dir) if f.lower().endswith('.jpg')])[:100]\n",
        "\n",
        "# Copy the selected images and labels to the new directories\n",
        "for img_name in image_paths:\n",
        "    # Define paths\n",
        "    img_path = os.path.join(img_dir, img_name)\n",
        "    label_path = os.path.join(label_dir, img_name.replace('.jpg', '.txt'))\n",
        "\n",
        "    # Copy image\n",
        "    new_img_path = os.path.join(new_img_dir, img_name)\n",
        "    shutil.copy(img_path, new_img_path)\n",
        "\n",
        "    # Copy corresponding label\n",
        "    new_label_path = os.path.join(new_label_dir, img_name.replace('.jpg', '.txt'))\n",
        "    shutil.copy(label_path, new_label_path)\n",
        "\n",
        "print(\"First 100 images and labels have been copied.\")"
      ]
    },
    {
      "cell_type": "code",
      "execution_count": null,
      "metadata": {
        "id": "ycY00DjjuPbs"
      },
      "outputs": [],
      "source": [
        "# Image and Labels Paths\n",
        "img_dir = '/content/coco_minitrain_790/images/train100'\n",
        "label_dir = '/content/coco_minitrain_790/labels/train100'\n",
        "\n",
        "# Load the pickle file\n",
        "with open(\"/content/region_proposals_100_images.pkl\", \"rb\") as f:\n",
        "    proposals_dict = pickle.load(f)\n",
        "\n",
        "# Convert region proposals into tensors since the forward(method) expects tensors\n",
        "for image_id, proposals in proposals_dict.items():\n",
        "    # Convert proposals (assumed to be a list or array) to a PyTorch tensor\n",
        "    proposals_tensor = torch.tensor(proposals, dtype=torch.float32)\n",
        "    proposals_dict[image_id] = proposals_tensor\n",
        "\n",
        "# ---- Dataset ----\n",
        "dataset = FastRCNNDataset(\n",
        "    img_dir=img_dir,\n",
        "    label_dir=label_dir,\n",
        "    proposals_dict=proposals_dict,\n",
        "    transforms=T.ToTensor()\n",
        ")\n",
        "\n",
        "dataloader = DataLoader(dataset, batch_size=4, shuffle=True, collate_fn=lambda x: tuple(zip(*x)))\n",
        "\n",
        "# Although using Faster R-CNN Model, we are bypassing the RPN to use our pre generated region proposals\n",
        "base_model = fasterrcnn_resnet50_fpn(pretrained=True)\n",
        "in_features = base_model.roi_heads.box_predictor.cls_score.in_features\n",
        "num_classes = 81  # COCO (80 + background)\n",
        "base_model.roi_heads.box_predictor = FastRCNNPredictor(in_features, num_classes)\n",
        "\n",
        "model = FastRCNNWrapper(base_model)\n",
        "\n",
        "# Setup for using GPU\n",
        "device = torch.device('cuda' if torch.cuda.is_available() else 'cpu')\n",
        "model.to(device)\n",
        "optimizer = torch.optim.Adam(model.parameters(), lr=1e-4)\n",
        "\n",
        "# Training loop\n",
        "num_epochs = 10\n",
        "\n",
        "for epoch in range(num_epochs):\n",
        "    model.train()\n",
        "    running_loss = 0.0\n",
        "\n",
        "    for images, targets, proposals in dataloader:\n",
        "        images = [img.to(device) for img in images]\n",
        "        targets = [{k: v.to(device) for k, v in t.items()} for t in targets]\n",
        "        proposals = [p.to(device) for p in proposals]\n",
        "\n",
        "        loss_dict = model(images, targets=targets, proposals=proposals)\n",
        "        losses = sum(loss for loss in loss_dict.values())\n",
        "\n",
        "        optimizer.zero_grad()\n",
        "        losses.backward()\n",
        "        optimizer.step()\n",
        "\n",
        "        running_loss += losses.item()\n",
        "\n",
        "    avg_loss = running_loss / len(dataloader)\n",
        "    print(f\"[Epoch {epoch+1}] Loss: {avg_loss:.4f}\")\n",
        "\n",
        "print(\"Training complete!\")"
      ]
    },
    {
      "cell_type": "code",
      "execution_count": null,
      "metadata": {
        "collapsed": true,
        "id": "9IZUqRoyjktt"
      },
      "outputs": [],
      "source": [
        "# torchmetrics library makes getting mAP value easier\n",
        "!pip install torchmetrics\n",
        "\n",
        "from torchmetrics.detection.mean_ap import MeanAveragePrecision"
      ]
    },
    {
      "cell_type": "code",
      "execution_count": null,
      "metadata": {
        "id": "2mhHDP6WMPwJ"
      },
      "outputs": [],
      "source": [
        "# Run model on validation dataset and find average mAP value\n",
        "\n",
        "img_dir = '/content/coco_minitrain_790/images/val2017'\n",
        "label_dir = '/content/coco_minitrain_790/labels/val2017'\n",
        "\n",
        "# Initialize the mAP evaluator\n",
        "map_metric = MeanAveragePrecision()\n",
        "model.eval()\n",
        "\n",
        "# Collect all image and label paths\n",
        "img_paths = sorted(glob.glob(os.path.join(img_dir, \"*.jpg\")))\n",
        "label_paths = sorted(glob.glob(os.path.join(label_dir, \"*.txt\")))\n",
        "\n",
        "for img_path, label_path in zip(img_paths, label_paths):\n",
        "    # Load and preprocess image\n",
        "    img = cv2.imread(img_path)\n",
        "    img_rgb = cv2.cvtColor(img, cv2.COLOR_BGR2RGB)\n",
        "    h, w = img.shape[:2]\n",
        "    img_pil = Image.fromarray(img_rgb)\n",
        "    img_tensor = transforms.ToTensor()(img_pil).to(device)\n",
        "\n",
        "    # Load ground truth annotations (YOLO format)\n",
        "    boxes = []\n",
        "    labels = []\n",
        "    with open(label_path, 'r') as f:\n",
        "        for line in f.readlines():\n",
        "            cls, cx, cy, bw, bh = map(float, line.strip().split())\n",
        "            x1 = (cx - bw / 2) * w\n",
        "            y1 = (cy - bh / 2) * h\n",
        "            x2 = (cx + bw / 2) * w\n",
        "            y2 = (cy + bh / 2) * h\n",
        "            boxes.append([x1, y1, x2, y2])\n",
        "            labels.append(int(cls))\n",
        "\n",
        "    target = {\n",
        "        \"boxes\": torch.tensor(boxes, dtype=torch.float32),\n",
        "        \"labels\": torch.tensor(labels, dtype=torch.int64)\n",
        "    }\n",
        "\n",
        "    # Inference\n",
        "    model = base_model\n",
        "    model.eval()\n",
        "    model.to(device)\n",
        "    with torch.no_grad():\n",
        "        outputs = model([img_tensor])\n",
        "\n",
        "    preds = {\n",
        "        \"boxes\": outputs[0][\"boxes\"].cpu(),\n",
        "        \"scores\": outputs[0][\"scores\"].cpu(),\n",
        "        \"labels\": outputs[0][\"labels\"].cpu()\n",
        "    }\n",
        "\n",
        "    # Update mAP metric with predictions and ground truth\n",
        "    map_metric.update([preds], [target])\n",
        "\n",
        "# Compute final mAP\n",
        "final_map = map_metric.compute()\n",
        "print(\"Validation mAP:\", final_map)"
      ]
    },
    {
      "cell_type": "markdown",
      "metadata": {
        "id": "t4JnaY6euQA4"
      },
      "source": [
        "## 4. Visualize predictions"
      ]
    },
    {
      "cell_type": "code",
      "execution_count": null,
      "metadata": {
        "id": "3OwhsSM0YPch"
      },
      "outputs": [],
      "source": [
        "from torchvision.ops import box_iou\n",
        "\n",
        "def visualize_predictions(model, img_dir, label_dir, device, num_images=5, iou_threshold=0.5):\n",
        "    # Randomly select images\n",
        "    img_paths = sorted(glob.glob(os.path.join(img_dir, \"*.jpg\")))\n",
        "    label_paths = sorted(glob.glob(os.path.join(label_dir, \"*.txt\")))\n",
        "    selected_indices = random.sample(range(len(img_paths)), num_images)\n",
        "\n",
        "    for idx in selected_indices:\n",
        "        img_path = img_paths[idx]\n",
        "        label_path = label_paths[idx]\n",
        "        image_id = os.path.basename(img_path)\n",
        "\n",
        "        # Load the image\n",
        "        img = cv2.imread(img_path)\n",
        "        img_rgb = cv2.cvtColor(img, cv2.COLOR_BGR2RGB)\n",
        "\n",
        "        # Load YOLO annotations (ground truth)\n",
        "        h, w = img.shape[:2]\n",
        "        boxes = []\n",
        "        labels = []\n",
        "        with open(label_path, 'r') as f:\n",
        "            for line in f.readlines():\n",
        "                cls, cx, cy, bw, bh = map(float, line.strip().split())\n",
        "                x1 = (cx - bw / 2) * w\n",
        "                y1 = (cy - bh / 2) * h\n",
        "                x2 = (cx + bw / 2) * w\n",
        "                y2 = (cy + bh / 2) * h\n",
        "                boxes.append([x1, y1, x2, y2])\n",
        "                labels.append(int(cls))\n",
        "\n",
        "        # Convert ground truth boxes to tensor\n",
        "        gt_boxes = torch.tensor(boxes, dtype=torch.float32)\n",
        "        gt_labels = torch.tensor(labels, dtype=torch.int64)\n",
        "\n",
        "        # Move ground truth boxes and labels to CPU\n",
        "        gt_boxes = gt_boxes.cpu()  # Move to CPU\n",
        "        gt_labels = gt_labels.cpu()  # Move to CPU\n",
        "\n",
        "        # Prepare the image for model inference\n",
        "        img_pil = Image.fromarray(img_rgb)\n",
        "        transform = transforms.ToTensor()\n",
        "        img_tensor = transform(img_pil).to(device)\n",
        "\n",
        "        # Make predictions (pass the image as a list)\n",
        "        model = base_model\n",
        "        model.eval()\n",
        "        model.to(device)\n",
        "        with torch.no_grad():\n",
        "            predictions = model([img_tensor])  # Pass as a list of tensors\n",
        "\n",
        "        # Extract predicted bounding boxes, labels, and scores\n",
        "        pred_boxes = predictions[0]['boxes']\n",
        "        pred_labels = predictions[0]['labels']\n",
        "        pred_scores = predictions[0]['scores']\n",
        "\n",
        "        # Move predicted boxes, labels, and scores to CPU\n",
        "        pred_boxes = pred_boxes.cpu()  # Move to CPU\n",
        "        pred_labels = pred_labels.cpu()  # Move to CPU\n",
        "        pred_scores = pred_scores.cpu()  # Move to CPU\n",
        "\n",
        "        # Filter predictions based on IoU threshold\n",
        "        pred_boxes, pred_labels, pred_scores = filter_predictions_by_iou(pred_boxes, pred_labels, pred_scores, gt_boxes, gt_labels, iou_threshold)\n",
        "\n",
        "        # Plot the image and the predictions\n",
        "        fig, ax = plt.subplots(1, figsize=(12, 12))\n",
        "        ax.imshow(img_rgb)\n",
        "\n",
        "        # Plot ground truth boxes (blue)\n",
        "        for box, label in zip(gt_boxes, gt_labels):\n",
        "            x1, y1, x2, y2 = box\n",
        "            rect = patches.Rectangle((x1, y1), x2 - x1, y2 - y1, linewidth=2, edgecolor='blue', facecolor='none')\n",
        "            ax.add_patch(rect)\n",
        "            ax.text(x1, y1, f'{label.item()}', color='blue', fontsize=12)\n",
        "\n",
        "\n",
        "        # Plot predicted boxes (red)\n",
        "        for box, label, score in zip(pred_boxes, pred_labels, pred_scores):\n",
        "            x1, y1, x2, y2 = box\n",
        "            rect = patches.Rectangle((x1, y1), x2 - x1, y2 - y1, linewidth=2, edgecolor='red', facecolor='none')\n",
        "            ax.add_patch(rect)\n",
        "            ax.text(x1, y1, f'{label.item()}:{score:.2f}', color='red', fontsize=12)\n",
        "\n",
        "        # Add title\n",
        "        ax.set_title(f\"Image {image_id}\", fontsize=16)\n",
        "        plt.show()\n",
        "\n",
        "# Helper function to filter predictions by IoU threshold\n",
        "def filter_predictions_by_iou(pred_boxes, pred_labels, pred_scores, gt_boxes, gt_labels, iou_threshold=0.5):\n",
        "    iou = box_iou(pred_boxes, gt_boxes)\n",
        "    filtered_boxes = []\n",
        "    filtered_labels = []\n",
        "    filtered_scores = []\n",
        "\n",
        "    for i in range(len(pred_scores)):\n",
        "        max_iou, max_idx = torch.max(iou[i], dim=0)\n",
        "        if max_iou > iou_threshold:\n",
        "            filtered_boxes.append(pred_boxes[i])\n",
        "            filtered_labels.append(pred_labels[i])\n",
        "            filtered_scores.append(pred_scores[i])\n",
        "\n",
        "    return filtered_boxes, filtered_labels, filtered_scores\n",
        "\n",
        "# Example Usage\n",
        "img_dir = '/content/coco_minitrain_790/images/val2017/'\n",
        "label_dir = '/content/coco_minitrain_790/labels/val2017/'\n",
        "\n",
        "# Load the trained model and put it on the correct device (GPU/CPU)\n",
        "device = torch.device('cuda' if torch.cuda.is_available() else 'cpu')\n",
        "model = FastRCNNWrapper(base_model).to(device)\n",
        "\n",
        "# Call the visualization function\n",
        "visualize_predictions(model, img_dir, label_dir, device, num_images=3)"
      ]
    },
    {
      "cell_type": "markdown",
      "metadata": {
        "id": "8WXydF_wuYF2"
      },
      "source": [
        "## 5. Evaluate performance"
      ]
    },
    {
      "cell_type": "markdown",
      "metadata": {
        "id": "tcp6I1Gjm3w2"
      },
      "source": [
        "mAP on the validation dataset:\n",
        "\n",
        "**Validation mAP: 0.0046** (Extremely low, but this is expected when I only trained on a measly 100 images and the full COCO Dataset consists of 330,000 images)"
      ]
    },
    {
      "cell_type": "markdown",
      "metadata": {
        "id": "KD7Nh9Cvu6NI"
      },
      "source": [
        "Inference Speed = 3 minutes = 180 seconds / 100 images = 1.8 sec/image\n",
        "\n",
        "**Inference Speed: 1.8 seconds per image**"
      ]
    },
    {
      "cell_type": "markdown",
      "metadata": {
        "id": "Tiepeye2LJdj"
      },
      "source": [
        "**Memory Usage: 11.5 GB GPU RAM**\n",
        "\n",
        "![image.png](data:image/png;base64,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)"
      ]
    },
    {
      "cell_type": "markdown",
      "metadata": {
        "id": "f9-dTez1x5bj"
      },
      "source": [
        "**Fast R-CNN Strengths:**\n",
        "Fast R-CNN's major improvement on R-CNN was to use a single CNN pass for the entire image intead of extracting features from each singular region proposal as is done in normal R-CNN. This means that the convolutional layers are shared across all of the region proposals in Fast R-CNN. This improvement is the biggest reason as to why the inference time is quicker and is called Fast R-CNN.\n",
        "\n",
        "\n",
        "**Fast R-CNN Weaknesses:**\n",
        "As experienced very closely here, a big weakness is that Fast R-CNN needs pre-generated region proposals (like from selective search for example) which is very computationally expensive to generate and takes a lot of time. This also means that if the region proposals, generated by the selected algorithm, are of poor quality, then Fast R-CNN will produce poor results. Faster R-CNN aims to solve this however seen next.\n"
      ]
    },
    {
      "cell_type": "markdown",
      "metadata": {
        "id": "PITbw4vj9cUT"
      },
      "source": [
        "# Q3"
      ]
    },
    {
      "cell_type": "markdown",
      "metadata": {
        "id": "Ihu4BuOdCBHs"
      },
      "source": [
        "## 1. Load a Faster RCNN model"
      ]
    },
    {
      "cell_type": "code",
      "execution_count": null,
      "metadata": {
        "id": "UB66pk3Z9fdl"
      },
      "outputs": [],
      "source": [
        "# Create Dataset Class that gets all of the images .jpg and labels .txt files from where we stored them locally\n",
        "class CustomCocoDataset(torch.utils.data.Dataset):\n",
        "    def __init__(self, image_dir, label_dir, transform=None):\n",
        "        self.image_dir = image_dir\n",
        "        self.label_dir = label_dir\n",
        "        self.image_filenames = sorted(os.listdir(image_dir))\n",
        "        self.label_filenames = sorted(os.listdir(label_dir))\n",
        "        self.transform = transform\n",
        "\n",
        "    def __len__(self):\n",
        "        return len(self.image_filenames)\n",
        "\n",
        "    def __getitem__(self, idx):\n",
        "        # Load image\n",
        "        img_path = os.path.join(self.image_dir, self.image_filenames[idx])\n",
        "        image = Image.open(img_path).convert(\"RGB\")\n",
        "        w, h = image.size  # Get image width and height\n",
        "\n",
        "        # Load YOLO-style labels\n",
        "        label_path = os.path.join(self.label_dir, self.label_filenames[idx])\n",
        "        boxes = []\n",
        "        labels = []\n",
        "\n",
        "        with open(label_path, 'r') as f:\n",
        "            for line in f.readlines():\n",
        "                cls, cx, cy, bw, bh = map(float, line.strip().split())\n",
        "\n",
        "                # Convert YOLO format to xmin, ymin, xmax, ymax\n",
        "                x1 = (cx - bw / 2) * w\n",
        "                y1 = (cy - bh / 2) * h\n",
        "                x2 = (cx + bw / 2) * w\n",
        "                y2 = (cy + bh / 2) * h\n",
        "\n",
        "                boxes.append([x1, y1, x2, y2])\n",
        "                labels.append(int(cls))  # Use the class index\n",
        "\n",
        "        # Convert boxes and labels to tensors\n",
        "        if len(boxes) > 0:\n",
        "            boxes = torch.tensor(boxes, dtype=torch.float32)\n",
        "            labels = torch.tensor(labels, dtype=torch.int64)\n",
        "        else:\n",
        "            boxes = torch.empty((0, 4), dtype=torch.float32)  # Empty tensor for boxes\n",
        "            labels = torch.empty(0, dtype=torch.int64)  # Empty tensor for labels\n",
        "\n",
        "        target = {'boxes': boxes, 'labels': labels}\n",
        "\n",
        "        if self.transform:\n",
        "            image = self.transform(image)\n",
        "\n",
        "        return image, target\n"
      ]
    },
    {
      "cell_type": "code",
      "execution_count": null,
      "metadata": {
        "id": "9ett26soKmIC"
      },
      "outputs": [],
      "source": [
        "# Define the paths for images and labels\n",
        "image_dir = '/content/coco_minitrain_790/images/train100'\n",
        "label_dir = '/content/coco_minitrain_790/labels/train100'\n",
        "\n",
        "# Define a transformation since PyTorch models require tensors\n",
        "transform = T.Compose([\n",
        "    T.ToTensor(),\n",
        "])\n",
        "\n",
        "# Initialize the dataset\n",
        "train_dataset = CustomCocoDataset(\n",
        "    image_dir=image_dir,\n",
        "    label_dir=label_dir,\n",
        "    transform=T.ToTensor()\n",
        ")\n",
        "\n",
        "# Initialize dataloader\n",
        "train_loader = DataLoader(train_dataset, batch_size=4, shuffle=True, collate_fn=lambda x: tuple(zip(*x)))"
      ]
    },
    {
      "cell_type": "code",
      "execution_count": null,
      "metadata": {
        "id": "P3u8ggt-HQhz"
      },
      "outputs": [],
      "source": [
        "model = fasterrcnn_resnet50_fpn(pretrained=True)\n",
        "in_features = model.roi_heads.box_predictor.cls_score.in_features\n",
        "num_classes = 81  # COCO (80 + background)\n",
        "model.roi_heads.box_predictor = FastRCNNPredictor(in_features, num_classes)"
      ]
    },
    {
      "cell_type": "markdown",
      "metadata": {
        "id": "DWzT7A1WCNWe"
      },
      "source": [
        "## 2. Train the Faster RCNN model"
      ]
    },
    {
      "cell_type": "markdown",
      "source": [
        "After about 22 minutes of trying to train the model, not even one epoch had finished. This was because I was using CPU only as I have exhausted all my resources for the GPU trying to get Fast R-CNN to work. I then tried training on only 100 images instead of the full 790 images. It still took way too long. So, I just ended up buying the $9.99 subscription to colab pro for more gpu compute. It still took 5 minutes just for one epoch so I am still going to turn down the images to just 100 but at least now I can use the T4 GPU compute unit."
      ],
      "metadata": {
        "id": "thqNWMRTU7GX"
      }
    },
    {
      "cell_type": "code",
      "execution_count": null,
      "metadata": {
        "id": "PFrUKhRyORsm"
      },
      "outputs": [],
      "source": [
        "device = torch.device(\"cuda\" if torch.cuda.is_available() else \"cpu\")\n",
        "model.to(device)\n",
        "\n",
        "params = [p for p in model.parameters() if p.requires_grad]\n",
        "optimizer = torch.optim.Adam(params, lr=0.001, weight_decay=0.0001) # Trying adam optimizer for faster convergence\n",
        "\n",
        "num_epochs = 10\n",
        "for epoch in range(num_epochs):\n",
        "    model.train()\n",
        "    for images, targets in train_loader:\n",
        "        images = [image.to(device) for image in images]\n",
        "        targets = [{k: v.to(device) for k, v in t.items()} for t in targets]\n",
        "\n",
        "        # Zero the parameter gradients\n",
        "        optimizer.zero_grad()\n",
        "\n",
        "        # Forward pass\n",
        "        loss_dict = model(images, targets)\n",
        "\n",
        "        # Total loss\n",
        "        losses = sum(loss for loss in loss_dict.values())\n",
        "\n",
        "        # Backward pass and optimize\n",
        "        losses.backward()\n",
        "        optimizer.step()\n",
        "\n",
        "    print(f\"Epoch [{epoch+1}/{num_epochs}], Loss: {losses.item()}\")\n"
      ]
    },
    {
      "cell_type": "code",
      "source": [
        "# Using T4 GPU and only 100 images for training\n",
        "device = torch.device(\"cuda\" if torch.cuda.is_available() else \"cpu\")\n",
        "model.to(device)\n",
        "\n",
        "params = [p for p in model.parameters() if p.requires_grad]\n",
        "optimizer = torch.optim.Adam(params, lr=0.001, weight_decay=0.0001) # Trying adam optimizer for faster convergence\n",
        "\n",
        "num_epochs = 10\n",
        "for epoch in range(num_epochs):\n",
        "    model.train()\n",
        "    for images, targets in train_loader:\n",
        "        images = [image.to(device) for image in images]\n",
        "        targets = [{k: v.to(device) for k, v in t.items()} for t in targets]\n",
        "\n",
        "        # Zero the parameter gradients\n",
        "        optimizer.zero_grad()\n",
        "\n",
        "        # Forward pass\n",
        "        loss_dict = model(images, targets)\n",
        "\n",
        "        # Total loss\n",
        "        losses = sum(loss for loss in loss_dict.values())\n",
        "\n",
        "        # Backward pass and optimize\n",
        "        losses.backward()\n",
        "        optimizer.step()\n",
        "\n",
        "    print(f\"Epoch [{epoch+1}/{num_epochs}], Loss: {losses.item()}\")\n"
      ],
      "metadata": {
        "id": "_KLxcJsHVPJ4"
      },
      "execution_count": null,
      "outputs": []
    },
    {
      "cell_type": "markdown",
      "metadata": {
        "id": "ytH7xmg4CPv2"
      },
      "source": [
        "## 3. Validate the model"
      ]
    },
    {
      "cell_type": "code",
      "execution_count": null,
      "metadata": {
        "id": "D6FjpkkqCWcZ"
      },
      "outputs": [],
      "source": [
        "# Run model on validation dataset and find average mAP value\n",
        "\n",
        "img_dir = '/content/coco_minitrain_790/images/val2017'\n",
        "label_dir = '/content/coco_minitrain_790/labels/val2017'\n",
        "\n",
        "# Initialize the mAP evaluator\n",
        "map_metric = MeanAveragePrecision()\n",
        "model.eval()\n",
        "\n",
        "# Collect all image and label paths\n",
        "img_paths = sorted(glob.glob(os.path.join(img_dir, \"*.jpg\")))\n",
        "label_paths = sorted(glob.glob(os.path.join(label_dir, \"*.txt\")))\n",
        "\n",
        "for img_path, label_path in zip(img_paths, label_paths):\n",
        "    # Load and preprocess image\n",
        "    img = cv2.imread(img_path)\n",
        "    img_rgb = cv2.cvtColor(img, cv2.COLOR_BGR2RGB)\n",
        "    h, w = img.shape[:2]\n",
        "    img_pil = Image.fromarray(img_rgb)\n",
        "    img_tensor = T.ToTensor()(img_pil).to(device)\n",
        "\n",
        "    # Load ground truth annotations (YOLO format)\n",
        "    boxes = []\n",
        "    labels = []\n",
        "    with open(label_path, 'r') as f:\n",
        "        for line in f.readlines():\n",
        "            cls, cx, cy, bw, bh = map(float, line.strip().split())\n",
        "            x1 = (cx - bw / 2) * w\n",
        "            y1 = (cy - bh / 2) * h\n",
        "            x2 = (cx + bw / 2) * w\n",
        "            y2 = (cy + bh / 2) * h\n",
        "            boxes.append([x1, y1, x2, y2])\n",
        "            labels.append(int(cls))\n",
        "\n",
        "    target = {\n",
        "        \"boxes\": torch.tensor(boxes, dtype=torch.float32),\n",
        "        \"labels\": torch.tensor(labels, dtype=torch.int64)\n",
        "    }\n",
        "\n",
        "    # Inference\n",
        "    model.to(device)\n",
        "    with torch.no_grad():\n",
        "        outputs = model([img_tensor])\n",
        "\n",
        "    preds = {\n",
        "        \"boxes\": outputs[0][\"boxes\"].cpu(),\n",
        "        \"scores\": outputs[0][\"scores\"].cpu(),\n",
        "        \"labels\": outputs[0][\"labels\"].cpu()\n",
        "    }\n",
        "\n",
        "    # Update mAP metric with predictions and ground truth\n",
        "    map_metric.update([preds], [target])\n",
        "\n",
        "# Compute final mAP\n",
        "final_map = map_metric.compute()\n",
        "print(\"Validation mAP:\", final_map)"
      ]
    },
    {
      "cell_type": "markdown",
      "source": [
        "Again, these mAP values are just abysmal and that is definitely due to only training for 100 images but the times are just taking way too long (~ 50 minutes to an hour even for **only** 790 images) so I will focus on understanding the strengths, weaknesses, and differences between the two object detection models rather than getting good results."
      ],
      "metadata": {
        "id": "pzv6b02RmcaC"
      }
    },
    {
      "cell_type": "markdown",
      "metadata": {
        "id": "J5vi0O84CYZk"
      },
      "source": [
        "## 4. Visualize predictions"
      ]
    },
    {
      "cell_type": "code",
      "execution_count": null,
      "metadata": {
        "id": "CMlc6hubCZ3I"
      },
      "outputs": [],
      "source": [
        "from torchvision.ops import box_iou\n",
        "\n",
        "def visualize_predictions(model, img_dir, label_dir, device, num_images=5, iou_threshold=0.5):\n",
        "    # Randomly select images\n",
        "    img_paths = sorted(glob.glob(os.path.join(img_dir, \"*.jpg\")))\n",
        "    label_paths = sorted(glob.glob(os.path.join(label_dir, \"*.txt\")))\n",
        "    selected_indices = random.sample(range(len(img_paths)), num_images)\n",
        "\n",
        "    for idx in selected_indices:\n",
        "        img_path = img_paths[idx]\n",
        "        label_path = label_paths[idx]\n",
        "        image_id = os.path.basename(img_path)\n",
        "\n",
        "        # Load the image\n",
        "        img = cv2.imread(img_path)\n",
        "        img_rgb = cv2.cvtColor(img, cv2.COLOR_BGR2RGB)\n",
        "\n",
        "        # Load YOLO annotations (ground truth)\n",
        "        h, w = img.shape[:2]\n",
        "        boxes = []\n",
        "        labels = []\n",
        "        with open(label_path, 'r') as f:\n",
        "            for line in f.readlines():\n",
        "                cls, cx, cy, bw, bh = map(float, line.strip().split())\n",
        "                x1 = (cx - bw / 2) * w\n",
        "                y1 = (cy - bh / 2) * h\n",
        "                x2 = (cx + bw / 2) * w\n",
        "                y2 = (cy + bh / 2) * h\n",
        "                boxes.append([x1, y1, x2, y2])\n",
        "                labels.append(int(cls))\n",
        "\n",
        "        # Convert ground truth boxes to tensor\n",
        "        gt_boxes = torch.tensor(boxes, dtype=torch.float32)\n",
        "        gt_labels = torch.tensor(labels, dtype=torch.int64)\n",
        "\n",
        "        # Move ground truth boxes and labels to CPU\n",
        "        gt_boxes = gt_boxes.cpu()  # Move to CPU\n",
        "        gt_labels = gt_labels.cpu()  # Move to CPU\n",
        "\n",
        "        # Prepare the image for model inference\n",
        "        img_pil = Image.fromarray(img_rgb)\n",
        "        transform = T.ToTensor()\n",
        "        img_tensor = transform(img_pil).to(device)\n",
        "\n",
        "        # Make predictions (pass the image as a list)\n",
        "        model.eval()\n",
        "        model.to(device)\n",
        "        with torch.no_grad():\n",
        "            predictions = model([img_tensor])  # Pass as a list of tensors\n",
        "\n",
        "        # Extract predicted bounding boxes, labels, and scores\n",
        "        pred_boxes = predictions[0]['boxes']\n",
        "        pred_labels = predictions[0]['labels']\n",
        "        pred_scores = predictions[0]['scores']\n",
        "\n",
        "        # Move predicted boxes, labels, and scores to CPU\n",
        "        pred_boxes = pred_boxes.cpu()  # Move to CPU\n",
        "        pred_labels = pred_labels.cpu()  # Move to CPU\n",
        "        pred_scores = pred_scores.cpu()  # Move to CPU\n",
        "\n",
        "        # Filter predictions based on IoU threshold\n",
        "        pred_boxes, pred_labels, pred_scores = filter_predictions_by_iou(pred_boxes, pred_labels, pred_scores, gt_boxes, gt_labels, iou_threshold)\n",
        "\n",
        "        # Plot the image and the predictions\n",
        "        fig, ax = plt.subplots(1, figsize=(12, 12))\n",
        "        ax.imshow(img_rgb)\n",
        "\n",
        "        # Plot ground truth boxes (blue)\n",
        "        for box, label in zip(gt_boxes, gt_labels):\n",
        "            x1, y1, x2, y2 = box\n",
        "            rect = patches.Rectangle((x1, y1), x2 - x1, y2 - y1, linewidth=2, edgecolor='blue', facecolor='none')\n",
        "            ax.add_patch(rect)\n",
        "            ax.text(x1, y1, f'{label.item()}', color='blue', fontsize=12)\n",
        "\n",
        "\n",
        "        # Plot predicted boxes (red)\n",
        "        for box, label, score in zip(pred_boxes, pred_labels, pred_scores):\n",
        "            x1, y1, x2, y2 = box\n",
        "            rect = patches.Rectangle((x1, y1), x2 - x1, y2 - y1, linewidth=2, edgecolor='red', facecolor='none')\n",
        "            ax.add_patch(rect)\n",
        "            ax.text(x1, y1, f'{label.item()}:{score:.2f}', color='red', fontsize=12)\n",
        "\n",
        "        # Add title\n",
        "        ax.set_title(f\"Image {image_id}\", fontsize=16)\n",
        "        plt.show()\n",
        "\n",
        "# Helper function to filter predictions by IoU threshold\n",
        "def filter_predictions_by_iou(pred_boxes, pred_labels, pred_scores, gt_boxes, gt_labels, iou_threshold=0.5):\n",
        "    iou = box_iou(pred_boxes, gt_boxes)\n",
        "    filtered_boxes = []\n",
        "    filtered_labels = []\n",
        "    filtered_scores = []\n",
        "\n",
        "    for i in range(len(pred_scores)):\n",
        "        max_iou, max_idx = torch.max(iou[i], dim=0)\n",
        "        if max_iou > iou_threshold:\n",
        "            filtered_boxes.append(pred_boxes[i])\n",
        "            filtered_labels.append(pred_labels[i])\n",
        "            filtered_scores.append(pred_scores[i])\n",
        "\n",
        "    return filtered_boxes, filtered_labels, filtered_scores\n",
        "\n",
        "# Example Usage\n",
        "img_dir = '/content/coco_minitrain_790/images/val2017/'\n",
        "label_dir = '/content/coco_minitrain_790/labels/val2017/'\n",
        "\n",
        "# Load the trained model and put it on the correct device (GPU/CPU)\n",
        "device = torch.device('cuda' if torch.cuda.is_available() else 'cpu')\n",
        "model = fasterrcnn_resnet50_fpn(pretrained=True)\n",
        "\n",
        "# Call the visualization function\n",
        "visualize_predictions(model, img_dir, label_dir, device, num_images=3)"
      ]
    },
    {
      "cell_type": "markdown",
      "metadata": {
        "id": "Sg65jvmfCaRV"
      },
      "source": [
        "## 5. Compare Fast RCNN vs. Faster RCNN"
      ]
    },
    {
      "cell_type": "markdown",
      "source": [
        "```\n",
        "   Fast R-CNN  | Faster R-CNN\n",
        "---------------|-------------\n",
        "    0.0046     |   1.2405e-5    mAP\n",
        "    1.8        |   1.2          inference speed (seconds per image)\n",
        "    11.6       |   14.7 gB      memory on GPU compute unit\n",
        "```\n",
        "\n",
        "So the first thing is that the mAP value for Fast R-CNN was slightly higher than for Faster R-CNN. I think this is because the Fast R-CNN took more time which allowed it to make better predictions compared to Faster R-CNN which sacrificed accuracy for quicker training times. However, this conclusion might not be sound since I trained on only **100** images for both models.\n",
        "\n",
        "As for the reason Faster R-CNN runs faster than Fast R-CNN is that Faster R-CNN takes it a step further by no longer relying on external region proposals like from selective search. It instead has something called an RPN (region proposal network) that is directly integrated into the model. Since the RPN is a part of the architecture, even the process of generating region proposals is trainable and thus becomes more efficient. Before, with selective search, there was no way to optimize how the algorithm generated region proposals so it would take a very long time.\n",
        "\n",
        "Because Faster R-CNN sacrificed accuracy for quicker runtimes, the mAP value was slightly lower. But the training times were an entire minute quicker with its RPN. Also, by looking visually at the boundary boxes, it seems that Faster R-CNN did a better job of the location and size of the boxes but a worse job at classifying those boxes or objects when compared to Fast R-CNN."
      ],
      "metadata": {
        "id": "1zJUdQvBq7lH"
      }
    },
    {
      "cell_type": "markdown",
      "source": [
        "# Q4"
      ],
      "metadata": {
        "id": "VVEVAd4Dx2Ig"
      }
    },
    {
      "cell_type": "markdown",
      "source": [
        "## 1. Load and train YOLOv5"
      ],
      "metadata": {
        "id": "8huxVI8Px6hw"
      }
    },
    {
      "cell_type": "code",
      "source": [
        "# Clone YOLOv5 repo\n",
        "!git clone https://github.com/ultralytics/yolov5.git\n",
        "%cd yolov5\n",
        "!pip install -r requirements.txt"
      ],
      "metadata": {
        "collapsed": true,
        "id": "t0NyHnkzx3aK"
      },
      "execution_count": null,
      "outputs": []
    },
    {
      "cell_type": "markdown",
      "source": [
        "Kept getting an error of out of memory when using the T4 GPU with 16GB ram and I tried changing the batch size with no luck. I moved to the nvidia A100 GPU and was successful."
      ],
      "metadata": {
        "id": "-Bk2tipT5NcC"
      }
    },
    {
      "cell_type": "code",
      "source": [
        "!python train.py --img 640 --batch 16 --epochs 50 --data /content/coco_minitrain_790/coco2017.yaml --weights yolov5s.pt --name yolo_coco_train"
      ],
      "metadata": {
        "id": "Pk4Y5GMq1cuT"
      },
      "execution_count": null,
      "outputs": []
    },
    {
      "cell_type": "markdown",
      "source": [
        "## 2. Evaluate and visualize"
      ],
      "metadata": {
        "id": "WOtJON_2yF2e"
      }
    },
    {
      "cell_type": "code",
      "source": [
        "from IPython.display import Image, display\n",
        "display(Image(filename='runs/train/yolo_coco_train/results.png'))"
      ],
      "metadata": {
        "id": "EM_Wj3_kyHuc"
      },
      "execution_count": null,
      "outputs": []
    },
    {
      "cell_type": "code",
      "source": [
        "!python detect.py --weights runs/train/yolo_coco_train/weights/best.pt --img 640 --source /content/coco_minitrain_790/images/train2017"
      ],
      "metadata": {
        "collapsed": true,
        "id": "8zGqhpAf4P2A"
      },
      "execution_count": null,
      "outputs": []
    },
    {
      "cell_type": "code",
      "source": [
        "from google.colab.patches import cv2_imshow\n",
        "image = cv2.imread('/content/yolov5/runs/detect/exp/000000005099.jpg')\n",
        "cv2_imshow(image)\n",
        "image = cv2.imread('/content/yolov5/runs/detect/exp/000000005303.jpg')\n",
        "cv2_imshow(image)\n",
        "image = cv2.imread('/content/yolov5/runs/detect/exp/000000008593.jpg')\n",
        "cv2_imshow(image)"
      ],
      "metadata": {
        "id": "v0PppuWn4fSj"
      },
      "execution_count": null,
      "outputs": []
    },
    {
      "cell_type": "markdown",
      "source": [
        "Although in my case the mAP was significantly higher for YOLOv5 than it was for F-RCNN or FR-RCNN, what occurs in most cases, is that the YOLOv5 model can indeed train quicker than RCNN family since it has a single stage approach for predicting bounding boxes **and** finding class probabilities compared to the RCNN family first having to do region proposal and then object classification (more like two stage). However, this same single stage approach (single fully connected layer really) that helps runtimes also worsens the accuracy of the bounding boxes because the method which it uses to create region proprosals (what everything relies on) is less accurate which it needs to be, so that YOLOv5 is as quick as it is."
      ],
      "metadata": {
        "id": "T_aovaDZDZjo"
      }
    },
    {
      "cell_type": "markdown",
      "source": [
        "# Q5"
      ],
      "metadata": {
        "id": "sQMJlAabLa-P"
      }
    },
    {
      "cell_type": "markdown",
      "source": [
        "## 1. Train a modern YOLO variant"
      ],
      "metadata": {
        "id": "01XJMQNHLfRb"
      }
    },
    {
      "cell_type": "code",
      "source": [
        "# Make sure ultralytics package installed already\n",
        "!pip install ultralytics"
      ],
      "metadata": {
        "collapsed": true,
        "id": "tsLWQi6FLcAI"
      },
      "execution_count": null,
      "outputs": []
    },
    {
      "cell_type": "code",
      "source": [
        "# Everything is already setup for YOLO models as I just previously ran a YOLOv5 model\n",
        "from ultralytics import YOLO\n",
        "\n",
        "model = YOLO('yolov8s.pt')  # or yolov8m.pt, yolov8l.pt, etc.\n",
        "model.train(\n",
        "    data='/content/coco_minitrain_790/coco2017.yaml',\n",
        "    epochs=50,\n",
        "    imgsz=640,\n",
        "    batch=16,\n",
        "    name='yolov8_coco_train'\n",
        ")\n"
      ],
      "metadata": {
        "collapsed": true,
        "id": "DRr_I_ZfO-u7"
      },
      "execution_count": null,
      "outputs": []
    },
    {
      "cell_type": "code",
      "source": [
        "# Visualize metrics for YOLOv8\n",
        "from IPython.display import Image, display\n",
        "display(Image(filename='/content/runs/detect/yolov8_coco_train/results.png'))"
      ],
      "metadata": {
        "id": "_BDj90uYQKuN"
      },
      "execution_count": null,
      "outputs": []
    },
    {
      "cell_type": "code",
      "source": [
        "# Run the model for first three images in the validation dataset\n",
        "from glob import glob\n",
        "model = YOLO('/content/runs/detect/yolov8_coco_train/weights/best.pt')\n",
        "\n",
        "validation_img_dir = '/content/coco_minitrain_790/images/val2017'\n",
        "val_images = sorted(glob(os.path.join(validation_img_dir, '*.jpg')))[:3]  # get 3 images\n",
        "\n",
        "# Run prediction\n",
        "results = model.predict(val_images, save=False, conf=0.25)\n",
        "\n",
        "# Plot the 3 images with their labels\n",
        "for i, r in enumerate(results):\n",
        "    im_array = r.plot()  # annotated image as numpy array\n",
        "    plt.figure(figsize=(10, 6))\n",
        "    plt.imshow(im_array)\n",
        "    plt.axis('off')\n",
        "    plt.title(f'Prediction {i+1}')\n",
        "    plt.show()"
      ],
      "metadata": {
        "id": "UUfOW5xJQdQA"
      },
      "execution_count": null,
      "outputs": []
    },
    {
      "cell_type": "markdown",
      "source": [
        "YOLOv8 proved to be a bit better as its mAP value was ~0.44 compared to YOLOv5 which had an mAP value of ~0.33. From what I understand, if there was one major difference that could be attributed to this increase in the mAP value between v8 and v5 it would be the introduction of what is called ViTs or Vision Transformers. YOLOv8 uses both CNNs and ViTs together to get the benefits from both. Specifically, ViTs are much better at detecting objects that are in very complex or cluttered scenes than CNNs. This issue of cluttered images was one of the big drawbacks with YOLOv5 so with the use of ViTs, YOLOv8 is better capable of noisy images.\n",
        "\n",
        "To go in more depth, Vision Transformers (ViT) are the image equivalent of the popular use of transformers in Natural Language Processing (NLP). They do inherit some concepts from the transformers architecture for NLP but they are specially designed to handle image data for computer vision.\n",
        "\n",
        "Also, no changes were made in hyperparameters or anchors."
      ],
      "metadata": {
        "id": "V3DxBBuzS9zX"
      }
    }
  ],
  "metadata": {
    "accelerator": "GPU",
    "colab": {
      "collapsed_sections": [
        "z0siA8Kf4yBi",
        "YTiP7cOO8pqD",
        "Gwvxoal4nioI",
        "yAMkxDH5Caw_",
        "MBnde0_QaCA2",
        "wJJAkdwCaK9D",
        "28EYBTHDt6yl",
        "BnwKmdV6uEYE",
        "6oi_NgAeuMBu",
        "Ihu4BuOdCBHs",
        "DWzT7A1WCNWe",
        "ytH7xmg4CPv2",
        "8huxVI8Px6hw"
      ],
      "gpuType": "L4",
      "provenance": [],
      "machine_shape": "hm"
    },
    "kernelspec": {
      "display_name": "Python 3",
      "name": "python3"
    },
    "language_info": {
      "name": "python"
    }
  },
  "nbformat": 4,
  "nbformat_minor": 0
}
